{
 "cells": [
  {
   "cell_type": "code",
   "execution_count": 1,
   "id": "7ffb9d1b",
   "metadata": {},
   "outputs": [],
   "source": [
    "# ✅ Sample OCR & Caption inputs\n",
    "ocr_text = \"\"\"Welcome to VisionVoice!\n",
    "This is a test image with some printed text.\"\"\"  # or use your actual OCR output\n",
    "\n",
    "image_caption = \"a person sitting in a wheelchair at a bus stop\"  # from Step 2\n",
    "\n"
   ]
  },
  {
   "cell_type": "code",
   "execution_count": 2,
   "id": "7b1e3604",
   "metadata": {},
   "outputs": [],
   "source": [
    "# ✅ Clean OCR text\n",
    "def clean_text(text):\n",
    "    lines = text.strip().split('\\n')\n",
    "    cleaned = [line.strip() for line in lines if line.strip() != '']\n",
    "    return ' '.join(cleaned)\n",
    "\n",
    "cleaned_ocr = clean_text(ocr_text)\n",
    "cleaned_caption = clean_text(image_caption)"
   ]
  },
  {
   "cell_type": "code",
   "execution_count": 3,
   "id": "617997ad",
   "metadata": {},
   "outputs": [],
   "source": [
    "# ✅ Combine both for audio output\n",
    "final_description = f\"{cleaned_caption}. The text on the image reads: {cleaned_ocr}.\"\n"
   ]
  },
  {
   "cell_type": "code",
   "execution_count": 4,
   "id": "297a2d50",
   "metadata": {},
   "outputs": [
    {
     "name": "stdout",
     "output_type": "stream",
     "text": [
      "🧠 Final Description to Speak:\n",
      "a person sitting in a wheelchair at a bus stop. The text on the image reads: Welcome to VisionVoice! This is a test image with some printed text..\n"
     ]
    }
   ],
   "source": [
    "# ✅ Show the combined result\n",
    "print(\"🧠 Final Description to Speak:\")\n",
    "print(final_description)"
   ]
  },
  {
   "cell_type": "code",
   "execution_count": null,
   "id": "8a3daddf",
   "metadata": {},
   "outputs": [],
   "source": []
  }
 ],
 "metadata": {
  "kernelspec": {
   "display_name": "Python 3 (ipykernel)",
   "language": "python",
   "name": "python3"
  },
  "language_info": {
   "codemirror_mode": {
    "name": "ipython",
    "version": 3
   },
   "file_extension": ".py",
   "mimetype": "text/x-python",
   "name": "python",
   "nbconvert_exporter": "python",
   "pygments_lexer": "ipython3",
   "version": "3.9.12"
  }
 },
 "nbformat": 4,
 "nbformat_minor": 5
}
